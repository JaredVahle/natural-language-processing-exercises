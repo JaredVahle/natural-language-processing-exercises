{
 "cells": [
  {
   "cell_type": "code",
   "execution_count": 3,
   "id": "9241c01c",
   "metadata": {},
   "outputs": [],
   "source": [
    "import requests\n",
    "from bs4 import BeautifulSoup \n",
    "import pandas as pd\n",
    "import re\n",
    "from time import strftime\n",
    "from time import sleep"
   ]
  },
  {
   "cell_type": "code",
   "execution_count": 4,
   "id": "f99d400f",
   "metadata": {},
   "outputs": [],
   "source": [
    "#https://github.com/search?p=1&q=stars%3A%3E0&s=stars&type=Repositories"
   ]
  },
  {
   "cell_type": "code",
   "execution_count": 5,
   "id": "21d6d336",
   "metadata": {},
   "outputs": [],
   "source": [
    "def get_url_list():\n",
    "    link_list = []\n",
    "    for i in range(1,99):\n",
    "        if i%10 == 0:\n",
    "            print(link_list[i-3])\n",
    "            print(len(link_list))\n",
    "            print('waiting')\n",
    "            sleep(60)\n",
    "            print('continue')\n",
    "            response = requests.get(f'https://github.com/search?p=100{i}&q=stars%3A%3E0&s=stars&type=Repositories',headers = {'user-agent': 'Codeup DS Germain'})\n",
    "            html = response.text\n",
    "            html\n",
    "            soup = BeautifulSoup(html)\n",
    "            article = soup.select('.v-align-middle')\n",
    "            for a in article:\n",
    "                link_ispy = str(a)\n",
    "                match = re.search(r'(http|ftp|https):\\/\\/([\\w_-]+(?:(?:\\.[\\w_-]+)+))([\\w.,@?^=%&:\\/~+#-]*[\\w@?^=%&\\/~+#-]\\w+)', link_ispy)\n",
    "                if match is not None:\n",
    "                    link_list.append(match.group(0))\n",
    "        else:\n",
    "            response = requests.get(f'https://github.com/search?p={i}&q=stars%3A%3E0&s=stars&type=Repositories',headers = {'user-agent': 'Codeup DS Germain'})\n",
    "            html = response.text\n",
    "            html\n",
    "            soup = BeautifulSoup(html)\n",
    "            article = soup.select('.v-align-middle')\n",
    "            for a in article:\n",
    "                link_ispy = str(a)\n",
    "                match = re.search(r'(http|ftp|https):\\/\\/([\\w_-]+(?:(?:\\.[\\w_-]+)+))([\\w.,@?^=%&:\\/~+#-]*[\\w@?^=%&\\/~+#-]\\w+)', link_ispy)\n",
    "                if match is not None:\n",
    "                    link_list.append(match.group(0))\n",
    "    return link_list\n",
    "            "
   ]
  },
  {
   "cell_type": "code",
   "execution_count": 6,
   "id": "8feb71f4",
   "metadata": {
    "scrolled": false
   },
   "outputs": [
    {
     "name": "stdout",
     "output_type": "stream",
     "text": [
      "https://github.com/public-apis/public-apis\n",
      "90\n",
      "waiting\n",
      "continue\n",
      "https://github.com/danistefanovic/build-your-own-x\n",
      "170\n",
      "waiting\n",
      "continue\n",
      "https://github.com/ossu/computer-science\n",
      "250\n",
      "waiting\n",
      "continue\n",
      "https://github.com/justjavac/free-programming-books-zh_CN\n",
      "330\n",
      "waiting\n",
      "continue\n",
      "https://github.com/puppeteer/puppeteer\n",
      "410\n",
      "waiting\n",
      "continue\n",
      "https://github.com/awesome-selfhosted/awesome-selfhosted\n",
      "490\n",
      "waiting\n",
      "continue\n",
      "https://github.com/typicode/json-server\n",
      "570\n",
      "waiting\n",
      "continue\n",
      "https://github.com/elastic/elasticsearch\n",
      "650\n",
      "waiting\n",
      "continue\n",
      "https://github.com/jquery/jquery\n",
      "730\n",
      "waiting\n",
      "continue\n"
     ]
    }
   ],
   "source": [
    "link_list = get_url_list()"
   ]
  },
  {
   "cell_type": "code",
   "execution_count": 7,
   "id": "7e41f86a",
   "metadata": {},
   "outputs": [
    {
     "data": {
      "text/plain": [
       "['https://github.com/wagoodman/dive',\n",
       " 'https://github.com/AobingJava/JavaFamily',\n",
       " 'https://github.com/react-boilerplate/react-boilerplate',\n",
       " 'https://github.com/eugenp/tutorials',\n",
       " 'https://github.com/SheetJS/sheetjs',\n",
       " 'https://github.com/ventoy/Ventoy',\n",
       " 'https://github.com/dylanaraps/pure-bash-bible',\n",
       " 'https://github.com/netty/netty',\n",
       " 'https://github.com/jashkenas/backbone',\n",
       " 'https://github.com/unknwon/the-way-to-go_ZH_CN']"
      ]
     },
     "execution_count": 7,
     "metadata": {},
     "output_type": "execute_result"
    }
   ],
   "source": [
    "link_list[300:310]"
   ]
  },
  {
   "cell_type": "code",
   "execution_count": null,
   "id": "8bbc95e5",
   "metadata": {},
   "outputs": [],
   "source": []
  }
 ],
 "metadata": {
  "kernelspec": {
   "display_name": "Python 3",
   "language": "python",
   "name": "python3"
  },
  "language_info": {
   "codemirror_mode": {
    "name": "ipython",
    "version": 3
   },
   "file_extension": ".py",
   "mimetype": "text/x-python",
   "name": "python",
   "nbconvert_exporter": "python",
   "pygments_lexer": "ipython3",
   "version": "3.8.8"
  }
 },
 "nbformat": 4,
 "nbformat_minor": 5
}
